{
 "cells": [
  {
   "cell_type": "code",
   "execution_count": 1,
   "metadata": {},
   "outputs": [],
   "source": [
    "import numpy as np\n",
    "import pandas as pd\n",
    "import matplotlib.pyplot as plt"
   ]
  },
  {
   "cell_type": "code",
   "execution_count": 2,
   "metadata": {},
   "outputs": [],
   "source": [
    "def euclidean_distance(x1, x2):\n",
    "    return np.sqrt(np.sum((x1 - x2)**2))"
   ]
  },
  {
   "cell_type": "code",
   "execution_count": 3,
   "metadata": {},
   "outputs": [],
   "source": [
    "# K-means clustering function\n",
    "def k_means_clusteing(data, k=2, max_iters=100):\n",
    "    # Initialize centroids randomly\n",
    "    centroids = data[np.random.choice(range(len(data)), k, replace=False)]\n",
    "    \n",
    "    # Main loop\n",
    "    for _ in range(max_iters):\n",
    "        # Assign each data point to the closest centroid\n",
    "        clusters = [[] for _ in range(k)]\n",
    "        for point in data:\n",
    "            print(point)\n",
    "            distances = [euclidean_distance(point, centroid) for centroid in centroids]\n",
    "            cluster_assignment = np.argmin(distances)\n",
    "            clusters[cluster_assignment].append(point)\n",
    "        \n",
    "        # Update centroids\n",
    "        new_centroids = [np.mean(cluster, axis=0) for cluster in clusters if cluster]\n",
    "        \n",
    "        # Check for convergence\n",
    "        if np.all([np.array_equal(c, nc) for c, nc in zip(centroids, new_centroids)]):\n",
    "            break\n",
    "        \n",
    "        centroids = new_centroids\n",
    "    \n",
    "    return np.array(centroids), [np.array(cluster) for cluster in clusters]"
   ]
  },
  {
   "cell_type": "code",
   "execution_count": 82,
   "metadata": {},
   "outputs": [],
   "source": [
    "# K-means clustering function\n",
    "def k_means_clustering(data, k=2, max_iters=100):\n",
    "    # Initialize centroids randomly\n",
    "    centroids = data[np.random.choice(range(len(data)), k, replace=False)]\n",
    "\n",
    "    # Main loop\n",
    "    for _ in range(max_iters):\n",
    "        # Assign each data point to the closest centroid\n",
    "        clusters = [[] for _ in range(k)]\n",
    "        for point in data:\n",
    "            print(point)\n",
    "            distances = [euclidean_distance(point, centroid) for centroid in centroids]\n",
    "            cluster_assignment = np.argmin(distances)\n",
    "            clusters[cluster_assignment].append(point)\n",
    "        \n",
    "        # Update centroids\n",
    "        new_centroids = [np.mean(cluster, axis=0) for cluster in clusters if cluster]\n",
    "        \n",
    "        # Check for convergence\n",
    "        if np.all([np.array_equal(c, nc) for c, nc in zip(centroids, new_centroids)]):\n",
    "            break\n",
    "        \n",
    "        centroids = new_centroids\n",
    "    \n",
    "    return np.array(centroids), [np.array(cluster) for cluster in clusters]"
   ]
  },
  {
   "cell_type": "code",
   "execution_count": 83,
   "metadata": {},
   "outputs": [
    {
     "name": "stdout",
     "output_type": "stream",
     "text": [
      "0.0\n",
      "new\n",
      "\n",
      "0.0\n",
      "new\n",
      "\n",
      "1.0\n",
      "new\n",
      "\n",
      "1.0\n",
      "new\n",
      "\n",
      "1.0\n",
      "new\n",
      "\n"
     ]
    }
   ],
   "source": [
    "k_means_clustering(metadata_features, num_clusters)"
   ]
  },
  {
   "cell_type": "code",
   "execution_count": 4,
   "metadata": {},
   "outputs": [],
   "source": [
    "# Generate synthetic examples based on the selected representatives\n",
    "def generate_synthetic_examples(centroids, clusters):\n",
    "    synthetic_examples = []\n",
    "    for cluster in clusters:\n",
    "        centroid = np.mean(cluster, axis=0)\n",
    "        synthetic_examples.append(2 * centroid - cluster)\n",
    "    return synthetic_examples"
   ]
  },
  {
   "cell_type": "code",
   "execution_count": 29,
   "metadata": {},
   "outputs": [
    {
     "name": "stdout",
     "output_type": "stream",
     "text": [
      "lesion_id: ['HAM_0000118' 'HAM_0002730' 'HAM_0001466' ... 'HAM_0005579' 'HAM_0001576'\n",
      " 'HAM_0002867']\n",
      "image_id: ['ISIC_0027419' 'ISIC_0025030' 'ISIC_0026769' ... 'ISIC_0033536'\n",
      " 'ISIC_0032854' 'ISIC_0032258']\n",
      "dx: ['bkl' 'nv' 'df' 'mel' 'vasc' 'bcc' 'akiec']\n",
      "dx_type: ['histo' 'consensus' 'confocal' 'follow_up']\n",
      "age: [80. 75. 60. 70. 55. 85. 65. 40. 50. 45. 35.  0. 30. nan  5. 25. 20. 10.\n",
      " 15.]\n",
      "sex: ['male' 'female' 'unknown']\n",
      "localization: ['scalp' 'ear' 'face' 'back' 'trunk' 'chest' 'upper extremity' 'abdomen'\n",
      " 'unknown' 'lower extremity' 'genital' 'neck' 'hand' 'foot' 'acral']\n"
     ]
    }
   ],
   "source": [
    "# Path to the metadata\n",
    "metadata_path = r'./HAM10000_metadata.csv'\n",
    "\n",
    "# Load metadata from the specified path\n",
    "metadata = pd.read_csv(metadata_path)\n",
    "\n",
    "for i in metadata:\n",
    "    print(\"{}: {}\".format(i,metadata[i].unique()))"
   ]
  },
  {
   "cell_type": "code",
   "execution_count": 30,
   "metadata": {},
   "outputs": [
    {
     "name": "stdout",
     "output_type": "stream",
     "text": [
      "[ 0.  1. nan]\n"
     ]
    }
   ],
   "source": [
    "# Encode 'sex' column as numerical values\n",
    "metadata['sex'] = metadata['sex'].map({'male': 0, 'female': 1})\n",
    "print(metadata['sex'].unique())"
   ]
  },
  {
   "cell_type": "code",
   "execution_count": 31,
   "metadata": {},
   "outputs": [],
   "source": [
    "features = ['age', 'sex']  # Using 'age' and 'sex' as features for clustering\n",
    "\n",
    "# Normalize the 'age' column\n",
    "metadata['age'] = (metadata['age'] - metadata['age'].mean()) / metadata['age'].std()"
   ]
  },
  {
   "cell_type": "code",
   "execution_count": 33,
   "metadata": {},
   "outputs": [
    {
     "data": {
      "text/plain": [
       "0        1.658130\n",
       "1        1.658130\n",
       "2        1.658130\n",
       "3        1.658130\n",
       "4        1.363469\n",
       "           ...   \n",
       "10010   -0.699163\n",
       "10011   -0.699163\n",
       "10012   -0.699163\n",
       "10013    1.658130\n",
       "10014    1.068807\n",
       "Name: age, Length: 10015, dtype: float64"
      ]
     },
     "execution_count": 33,
     "metadata": {},
     "output_type": "execute_result"
    }
   ],
   "source": [
    "metadata['age']"
   ]
  },
  {
   "cell_type": "code",
   "execution_count": 32,
   "metadata": {},
   "outputs": [
    {
     "data": {
      "text/plain": [
       "(10015, 7)"
      ]
     },
     "execution_count": 32,
     "metadata": {},
     "output_type": "execute_result"
    }
   ],
   "source": [
    "metadata.shape"
   ]
  },
  {
   "cell_type": "code",
   "execution_count": 36,
   "metadata": {},
   "outputs": [],
   "source": [
    "metadata.dropna(subset=features, inplace=True)"
   ]
  },
  {
   "cell_type": "code",
   "execution_count": 37,
   "metadata": {},
   "outputs": [
    {
     "data": {
      "text/plain": [
       "(9948, 7)"
      ]
     },
     "execution_count": 37,
     "metadata": {},
     "output_type": "execute_result"
    }
   ],
   "source": [
    "metadata.shape"
   ]
  },
  {
   "cell_type": "code",
   "execution_count": 40,
   "metadata": {},
   "outputs": [
    {
     "data": {
      "text/plain": [
       "(9948, 2)"
      ]
     },
     "execution_count": 40,
     "metadata": {},
     "output_type": "execute_result"
    }
   ],
   "source": [
    "# Convert DataFrame to NumPy array\n",
    "metadata_features = metadata[features].values\n",
    "metadata_features.shape"
   ]
  },
  {
   "cell_type": "code",
   "execution_count": 41,
   "metadata": {},
   "outputs": [],
   "source": [
    "num_clusters = 5\n",
    "centroids, clusters = k_means_clustering(metadata_features, num_clusters)"
   ]
  },
  {
   "cell_type": "code",
   "execution_count": 44,
   "metadata": {},
   "outputs": [
    {
     "name": "stdout",
     "output_type": "stream",
     "text": [
      "(5, 2)\n"
     ]
    }
   ],
   "source": [
    "print(centroids.shape)"
   ]
  },
  {
   "cell_type": "code",
   "execution_count": 60,
   "metadata": {},
   "outputs": [
    {
     "name": "stdout",
     "output_type": "stream",
     "text": [
      "2\n"
     ]
    }
   ],
   "source": [
    "print(len(clusters[0][0]))"
   ]
  },
  {
   "cell_type": "code",
   "execution_count": 45,
   "metadata": {},
   "outputs": [],
   "source": [
    "cluster_labels = np.zeros(len(metadata_features))\n",
    "for i, cluster in enumerate(clusters):\n",
    "    for point in cluster:\n",
    "        cluster_labels[np.where((metadata_features == point).all(axis=1))] = i"
   ]
  },
  {
   "cell_type": "code",
   "execution_count": 49,
   "metadata": {},
   "outputs": [
    {
     "data": {
      "text/plain": [
       "array([0., 1., 2., 3., 4.])"
      ]
     },
     "execution_count": 49,
     "metadata": {},
     "output_type": "execute_result"
    }
   ],
   "source": [
    "np.unique(cluster_labels)"
   ]
  },
  {
   "cell_type": "code",
   "execution_count": 50,
   "metadata": {},
   "outputs": [
    {
     "data": {
      "text/html": [
       "<div>\n",
       "<style scoped>\n",
       "    .dataframe tbody tr th:only-of-type {\n",
       "        vertical-align: middle;\n",
       "    }\n",
       "\n",
       "    .dataframe tbody tr th {\n",
       "        vertical-align: top;\n",
       "    }\n",
       "\n",
       "    .dataframe thead th {\n",
       "        text-align: right;\n",
       "    }\n",
       "</style>\n",
       "<table border=\"1\" class=\"dataframe\">\n",
       "  <thead>\n",
       "    <tr style=\"text-align: right;\">\n",
       "      <th></th>\n",
       "      <th>lesion_id</th>\n",
       "      <th>image_id</th>\n",
       "      <th>dx</th>\n",
       "      <th>dx_type</th>\n",
       "      <th>age</th>\n",
       "      <th>sex</th>\n",
       "      <th>localization</th>\n",
       "      <th>cluster</th>\n",
       "    </tr>\n",
       "  </thead>\n",
       "  <tbody>\n",
       "    <tr>\n",
       "      <th>0</th>\n",
       "      <td>HAM_0000118</td>\n",
       "      <td>ISIC_0027419</td>\n",
       "      <td>bkl</td>\n",
       "      <td>histo</td>\n",
       "      <td>1.658130</td>\n",
       "      <td>0.0</td>\n",
       "      <td>scalp</td>\n",
       "      <td>1</td>\n",
       "    </tr>\n",
       "    <tr>\n",
       "      <th>1</th>\n",
       "      <td>HAM_0000118</td>\n",
       "      <td>ISIC_0025030</td>\n",
       "      <td>bkl</td>\n",
       "      <td>histo</td>\n",
       "      <td>1.658130</td>\n",
       "      <td>0.0</td>\n",
       "      <td>scalp</td>\n",
       "      <td>1</td>\n",
       "    </tr>\n",
       "    <tr>\n",
       "      <th>2</th>\n",
       "      <td>HAM_0002730</td>\n",
       "      <td>ISIC_0026769</td>\n",
       "      <td>bkl</td>\n",
       "      <td>histo</td>\n",
       "      <td>1.658130</td>\n",
       "      <td>0.0</td>\n",
       "      <td>scalp</td>\n",
       "      <td>1</td>\n",
       "    </tr>\n",
       "    <tr>\n",
       "      <th>3</th>\n",
       "      <td>HAM_0002730</td>\n",
       "      <td>ISIC_0025661</td>\n",
       "      <td>bkl</td>\n",
       "      <td>histo</td>\n",
       "      <td>1.658130</td>\n",
       "      <td>0.0</td>\n",
       "      <td>scalp</td>\n",
       "      <td>1</td>\n",
       "    </tr>\n",
       "    <tr>\n",
       "      <th>4</th>\n",
       "      <td>HAM_0001466</td>\n",
       "      <td>ISIC_0031633</td>\n",
       "      <td>bkl</td>\n",
       "      <td>histo</td>\n",
       "      <td>1.363469</td>\n",
       "      <td>0.0</td>\n",
       "      <td>ear</td>\n",
       "      <td>1</td>\n",
       "    </tr>\n",
       "    <tr>\n",
       "      <th>...</th>\n",
       "      <td>...</td>\n",
       "      <td>...</td>\n",
       "      <td>...</td>\n",
       "      <td>...</td>\n",
       "      <td>...</td>\n",
       "      <td>...</td>\n",
       "      <td>...</td>\n",
       "      <td>...</td>\n",
       "    </tr>\n",
       "    <tr>\n",
       "      <th>10010</th>\n",
       "      <td>HAM_0002867</td>\n",
       "      <td>ISIC_0033084</td>\n",
       "      <td>akiec</td>\n",
       "      <td>histo</td>\n",
       "      <td>-0.699163</td>\n",
       "      <td>0.0</td>\n",
       "      <td>abdomen</td>\n",
       "      <td>2</td>\n",
       "    </tr>\n",
       "    <tr>\n",
       "      <th>10011</th>\n",
       "      <td>HAM_0002867</td>\n",
       "      <td>ISIC_0033550</td>\n",
       "      <td>akiec</td>\n",
       "      <td>histo</td>\n",
       "      <td>-0.699163</td>\n",
       "      <td>0.0</td>\n",
       "      <td>abdomen</td>\n",
       "      <td>2</td>\n",
       "    </tr>\n",
       "    <tr>\n",
       "      <th>10012</th>\n",
       "      <td>HAM_0002867</td>\n",
       "      <td>ISIC_0033536</td>\n",
       "      <td>akiec</td>\n",
       "      <td>histo</td>\n",
       "      <td>-0.699163</td>\n",
       "      <td>0.0</td>\n",
       "      <td>abdomen</td>\n",
       "      <td>2</td>\n",
       "    </tr>\n",
       "    <tr>\n",
       "      <th>10013</th>\n",
       "      <td>HAM_0000239</td>\n",
       "      <td>ISIC_0032854</td>\n",
       "      <td>akiec</td>\n",
       "      <td>histo</td>\n",
       "      <td>1.658130</td>\n",
       "      <td>0.0</td>\n",
       "      <td>face</td>\n",
       "      <td>1</td>\n",
       "    </tr>\n",
       "    <tr>\n",
       "      <th>10014</th>\n",
       "      <td>HAM_0003521</td>\n",
       "      <td>ISIC_0032258</td>\n",
       "      <td>mel</td>\n",
       "      <td>histo</td>\n",
       "      <td>1.068807</td>\n",
       "      <td>1.0</td>\n",
       "      <td>back</td>\n",
       "      <td>0</td>\n",
       "    </tr>\n",
       "  </tbody>\n",
       "</table>\n",
       "<p>9948 rows × 8 columns</p>\n",
       "</div>"
      ],
      "text/plain": [
       "         lesion_id      image_id     dx dx_type       age  sex localization  \\\n",
       "0      HAM_0000118  ISIC_0027419    bkl   histo  1.658130  0.0        scalp   \n",
       "1      HAM_0000118  ISIC_0025030    bkl   histo  1.658130  0.0        scalp   \n",
       "2      HAM_0002730  ISIC_0026769    bkl   histo  1.658130  0.0        scalp   \n",
       "3      HAM_0002730  ISIC_0025661    bkl   histo  1.658130  0.0        scalp   \n",
       "4      HAM_0001466  ISIC_0031633    bkl   histo  1.363469  0.0          ear   \n",
       "...            ...           ...    ...     ...       ...  ...          ...   \n",
       "10010  HAM_0002867  ISIC_0033084  akiec   histo -0.699163  0.0      abdomen   \n",
       "10011  HAM_0002867  ISIC_0033550  akiec   histo -0.699163  0.0      abdomen   \n",
       "10012  HAM_0002867  ISIC_0033536  akiec   histo -0.699163  0.0      abdomen   \n",
       "10013  HAM_0000239  ISIC_0032854  akiec   histo  1.658130  0.0         face   \n",
       "10014  HAM_0003521  ISIC_0032258    mel   histo  1.068807  1.0         back   \n",
       "\n",
       "       cluster  \n",
       "0            1  \n",
       "1            1  \n",
       "2            1  \n",
       "3            1  \n",
       "4            1  \n",
       "...        ...  \n",
       "10010        2  \n",
       "10011        2  \n",
       "10012        2  \n",
       "10013        1  \n",
       "10014        0  \n",
       "\n",
       "[9948 rows x 8 columns]"
      ]
     },
     "execution_count": 50,
     "metadata": {},
     "output_type": "execute_result"
    }
   ],
   "source": [
    "metadata['cluster'] = cluster_labels.astype(int)\n",
    "metadata"
   ]
  },
  {
   "cell_type": "code",
   "execution_count": 51,
   "metadata": {},
   "outputs": [
    {
     "name": "stdout",
     "output_type": "stream",
     "text": [
      "Cluster 1 contains 1903 entries\n",
      "Cluster 2 contains 1817 entries\n",
      "Cluster 3 contains 2193 entries\n",
      "Cluster 4 contains 2549 entries\n",
      "Cluster 5 contains 1486 entries\n"
     ]
    }
   ],
   "source": [
    "for i, cluster in enumerate(clusters):\n",
    "    print(f\"Cluster {i+1} contains {len(cluster)} entries\")"
   ]
  },
  {
   "cell_type": "code",
   "execution_count": 52,
   "metadata": {},
   "outputs": [
    {
     "name": "stdout",
     "output_type": "stream",
     "text": [
      "\n",
      "First 100 entries with their assigned clusters:\n",
      "      lesion_id      image_id   dx dx_type       age  sex localization  \\\n",
      "0   HAM_0000118  ISIC_0027419  bkl   histo  1.658130  0.0        scalp   \n",
      "1   HAM_0000118  ISIC_0025030  bkl   histo  1.658130  0.0        scalp   \n",
      "2   HAM_0002730  ISIC_0026769  bkl   histo  1.658130  0.0        scalp   \n",
      "3   HAM_0002730  ISIC_0025661  bkl   histo  1.658130  0.0        scalp   \n",
      "4   HAM_0001466  ISIC_0031633  bkl   histo  1.363469  0.0          ear   \n",
      "..          ...           ...  ...     ...       ...  ...          ...   \n",
      "95  HAM_0000746  ISIC_0027023  bkl   histo  0.479484  0.0         face   \n",
      "96  HAM_0001473  ISIC_0029022  bkl   histo  1.068807  0.0         face   \n",
      "97  HAM_0003007  ISIC_0025388  bkl   histo -0.699163  1.0      abdomen   \n",
      "98  HAM_0003007  ISIC_0028080  bkl   histo -0.699163  1.0      abdomen   \n",
      "99  HAM_0002957  ISIC_0026153  bkl   histo  1.068807  0.0         back   \n",
      "\n",
      "    cluster  \n",
      "0         1  \n",
      "1         1  \n",
      "2         1  \n",
      "3         1  \n",
      "4         1  \n",
      "..      ...  \n",
      "95        4  \n",
      "96        1  \n",
      "97        3  \n",
      "98        3  \n",
      "99        1  \n",
      "\n",
      "[100 rows x 8 columns]\n"
     ]
    }
   ],
   "source": [
    "print(\"\\nFirst 100 entries with their assigned clusters:\")\n",
    "print(metadata.head(100))"
   ]
  },
  {
   "cell_type": "code",
   "execution_count": 63,
   "metadata": {},
   "outputs": [],
   "source": [
    "synthetic_examples = generate_synthetic_examples(centroids, clusters)"
   ]
  },
  {
   "cell_type": "code",
   "execution_count": 73,
   "metadata": {},
   "outputs": [
    {
     "data": {
      "text/plain": [
       "1903"
      ]
     },
     "execution_count": 73,
     "metadata": {},
     "output_type": "execute_result"
    }
   ],
   "source": [
    "len(synthetic_examples[0])"
   ]
  },
  {
   "cell_type": "code",
   "execution_count": 71,
   "metadata": {},
   "outputs": [
    {
     "name": "stdout",
     "output_type": "stream",
     "text": [
      "\n",
      "Synthetic Examples for Cluster 1:\n",
      "[[-0.37337844  1.        ]\n",
      " [-0.37337844  1.        ]\n",
      " [ 0.51060656  1.        ]\n",
      " ...\n",
      " [ 0.51060656  1.        ]\n",
      " [ 0.21594489  1.        ]\n",
      " [-0.37337844  1.        ]]\n",
      "\n",
      "Synthetic Examples for Cluster 2:\n",
      "[[ 1.22416515  0.43037975]\n",
      " [ 1.22416515  0.43037975]\n",
      " [ 1.22416515  0.43037975]\n",
      " ...\n",
      " [ 1.22416515  0.43037975]\n",
      " [ 1.51882681 -0.56962025]\n",
      " [ 1.22416515  0.43037975]]\n",
      "\n",
      "Synthetic Examples for Cluster 3:\n",
      "[[-0.4094729  0.       ]\n",
      " [-0.4094729  0.       ]\n",
      " [-0.4094729  0.       ]\n",
      " ...\n",
      " [-0.4094729  0.       ]\n",
      " [-0.4094729  0.       ]\n",
      " [-0.4094729  0.       ]]\n",
      "\n",
      "Synthetic Examples for Cluster 4:\n",
      "[[-1.44523855  0.76853668]\n",
      " [-1.44523855  0.76853668]\n",
      " [-1.15057689  0.76853668]\n",
      " ...\n",
      " [-1.44523855  0.76853668]\n",
      " [-1.44523855  0.76853668]\n",
      " [-1.44523855  0.76853668]]\n",
      "\n",
      "Synthetic Examples for Cluster 5:\n",
      "[[0.43149697 0.        ]\n",
      " [0.43149697 0.        ]\n",
      " [0.13683531 0.        ]\n",
      " ...\n",
      " [0.43149697 0.        ]\n",
      " [0.13683531 0.        ]\n",
      " [0.43149697 0.        ]]\n"
     ]
    }
   ],
   "source": [
    "# Print the synthetic examples\n",
    "for i, synthetic_cluster in enumerate(synthetic_examples):\n",
    "    print(f\"\\nSynthetic Examples for Cluster {i+1}:\")\n",
    "    print(synthetic_cluster)"
   ]
  },
  {
   "cell_type": "code",
   "execution_count": 74,
   "metadata": {},
   "outputs": [
    {
     "data": {
      "image/png": "[encoded data removed]",
      "text/plain": [
       "<Figure size 640x480 with 1 Axes>"
      ]
     },
     "metadata": {},
     "output_type": "display_data"
    }
   ],
   "source": [
    "for i, cluster in enumerate(clusters):\n",
    "    plt.scatter(cluster[:, 0], cluster[:, 1], label=f'Cluster {i+1}')\n",
    "\n",
    "# Plot centroids\n",
    "for centroid in centroids:\n",
    "    plt.scatter(centroid[0], centroid[1], marker='x', color='black')\n",
    "\n",
    "plt.xlabel('Age (Normalized)')\n",
    "plt.ylabel('Sex (0: Male, 1: Female)')\n",
    "plt.title('Cluster-based Representation')\n",
    "plt.legend()\n",
    "plt.show()"
   ]
  },
  {
   "cell_type": "code",
   "execution_count": null,
   "metadata": {},
   "outputs": [],
   "source": []
  }
 ],
 "metadata": {
  "kernelspec": {
   "display_name": "Python 3",
   "language": "python",
   "name": "python3"
  },
  "language_info": {
   "codemirror_mode": {
    "name": "ipython",
    "version": 3
   },
   "file_extension": ".py",
   "mimetype": "text/x-python",
   "name": "python",
   "nbconvert_exporter": "python",
   "pygments_lexer": "ipython3",
   "version": "3.10.12"
  }
 },
 "nbformat": 4,
 "nbformat_minor": 2
}
